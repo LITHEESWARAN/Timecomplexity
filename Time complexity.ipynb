{
 "cells": [
  {
   "cell_type": "code",
   "execution_count": null,
   "id": "1194e0b1",
   "metadata": {},
   "outputs": [],
   "source": [
    "#Problem 1 :Quicksort Algorithm\n",
    "def quicksort(arr):\n",
    "    if len(arr) <= 1:\n",
    "        return arr\n",
    "pivot = arr[len(arr) // 2]\n",
    "left = [x for x in arr if x < pivot]\n",
    "middle = [x for x in arr if x == pivot]\n",
    "right = [x for x in arr if x > pivot]\n",
    "return quicksort(left) + middle + quicksort(right)\n",
    "\n",
    "\n",
    "# TIME COMPLEXITY:\n",
    "# Average case:O(n log n)\n",
    "# Worst case:O(n^2)\n"
   ]
  },
  {
   "cell_type": "code",
   "execution_count": null,
   "id": "a444ac91",
   "metadata": {},
   "outputs": [],
   "source": [
    "#Problem 2: Nested Loop Example\n",
    "    def nested_loop_example(matrix):\n",
    "    rows, cols = len(matrix), len(matrix[0])\n",
    "    total = 0\n",
    "    for i in range(rows):\n",
    "        for j in range(cols):\n",
    "            total += matrix[i][j]\n",
    "    return total\n",
    "\n",
    "# TIME COMPLEXITY:\n",
    "# O(r×c), which isO(n^2) if both dimensions are proportional to 𝑛\n",
    "\n",
    "\n"
   ]
  },
  {
   "cell_type": "code",
   "execution_count": null,
   "id": "2870a6bf",
   "metadata": {},
   "outputs": [],
   "source": [
    "#Problem 3: Sum of Array Elements\n",
    "    def example_function(arr):\n",
    "    result = 0\n",
    "    for element in arr:\n",
    "        result += element\n",
    "    return result\n",
    "\n",
    "#Time Complexity: O(n), where n is the number of elements in the array.\n",
    "\n"
   ]
  },
  {
   "cell_type": "code",
   "execution_count": null,
   "id": "7ac61110",
   "metadata": {},
   "outputs": [],
   "source": [
    "#Problem 4: Longest Increasing Subsequence (LIS)\n",
    "def longest_increasing_subsequence(nums):\n",
    "    n = len(nums)\n",
    "    lis = [1] * n\n",
    "    for i in range(1, n):\n",
    "        for j in range(0, i):\n",
    "            if nums[i] > nums[j] and lis[i] < lis[j] + 1:\n",
    "                lis[i] = lis[j] + 1\n",
    "    return max(lis)\n",
    "\n",
    "#Time Complexity: O(n^2).\n"
   ]
  },
  {
   "cell_type": "code",
   "execution_count": null,
   "id": "347ab8fc",
   "metadata": {},
   "outputs": [],
   "source": [
    "#Problem 5: Mysterious Function\n",
    "def mysterious_function(arr):\n",
    "    n = len(arr)\n",
    "    result = 0\n",
    "    for i in range(n):\n",
    "        for j in range(i, n):\n",
    "            result += arr[i] * arr[j]\n",
    "    return result\n",
    "\n",
    "#Time Complexity: O(n^2)."
   ]
  },
  {
   "cell_type": "code",
   "execution_count": 2,
   "id": "5d4e2efd",
   "metadata": {},
   "outputs": [
    {
     "name": "stdout",
     "output_type": "stream",
     "text": [
      "6\n"
     ]
    }
   ],
   "source": [
    "# Problem 6: Sum of Digits\n",
    "def sum_of_digits(n):\n",
    "    if n == 0:\n",
    "        return 0\n",
    "    return n % 10 + sum_of_digits(n // 10)\n",
    "\n",
    "# Example usage:\n",
    "print(sum_of_digits(123))  \n"
   ]
  },
  {
   "cell_type": "code",
   "execution_count": 3,
   "id": "4cab8f34",
   "metadata": {},
   "outputs": [
    {
     "name": "stdout",
     "output_type": "stream",
     "text": [
      "[0, 1, 1, 2, 3, 5]\n"
     ]
    }
   ],
   "source": [
    "# Problem 7: Fibonacci Series\n",
    "def fibonacci_series(n):\n",
    "    def fib(n):\n",
    "        if n <= 1:\n",
    "            return n\n",
    "        return fib(n - 1) + fib(n - 2)\n",
    "    \n",
    "    return [fib(i) for i in range(n)]\n",
    "\n",
    "# Example usage:\n",
    "print(fibonacci_series(6))  \n"
   ]
  },
  {
   "cell_type": "code",
   "execution_count": 4,
   "id": "454cf06c",
   "metadata": {},
   "outputs": [
    {
     "name": "stdout",
     "output_type": "stream",
     "text": [
      "True\n"
     ]
    }
   ],
   "source": [
    "# Problem 8: Subset Sum\n",
    "def subset_sum(arr, target):\n",
    "    def helper(index, current_sum):\n",
    "        if current_sum == target:\n",
    "            return True\n",
    "        if index >= len(arr) or current_sum > target:\n",
    "            return False\n",
    "        # Include the current element\n",
    "        include = helper(index + 1, current_sum + arr[index])\n",
    "        # Exclude the current element\n",
    "        exclude = helper(index + 1, current_sum)\n",
    "        return include or exclude\n",
    "    \n",
    "    return helper(0, 0)\n",
    "\n",
    "# Example usage:\n",
    "print(subset_sum([3, 34, 4, 12, 5, 2], 9))\n"
   ]
  },
  {
   "cell_type": "code",
   "execution_count": 5,
   "id": "0c0973e4",
   "metadata": {},
   "outputs": [
    {
     "name": "stdout",
     "output_type": "stream",
     "text": [
      "True\n"
     ]
    }
   ],
   "source": [
    "# Problem 9: Word Break\n",
    "def word_break(s, word_dict):\n",
    "    def helper(start):\n",
    "        if start == len(s):\n",
    "            return True\n",
    "        for end in range(start + 1, len(s) + 1):\n",
    "            if s[start:end] in word_dict and helper(end):\n",
    "                return True\n",
    "        return False\n",
    "    \n",
    "    return helper(0)\n",
    "\n",
    "# Example usage:\n",
    "print(word_break(\"leetcode\", [\"leet\", \"code\"]))  \n"
   ]
  },
  {
   "cell_type": "code",
   "execution_count": 6,
   "id": "478fc7f8",
   "metadata": {},
   "outputs": [
    {
     "name": "stdout",
     "output_type": "stream",
     "text": [
      "[['.Q..', '...Q', 'Q...', '..Q.'], ['..Q.', 'Q...', '...Q', '.Q..']]\n"
     ]
    }
   ],
   "source": [
    "# Problem 10: N-Queens\n",
    "def n_queens(n):\n",
    "    def is_valid(board, row, col):\n",
    "        for i in range(row):\n",
    "            if board[i] == col or \\\n",
    "               board[i] - i == col - row or \\\n",
    "               board[i] + i == col + row:\n",
    "                return False\n",
    "        return True\n",
    "    \n",
    "    def solve(row, board):\n",
    "        if row == n:\n",
    "            result.append([''.join('.' if j != board[i] else 'Q' for j in range(n)) for i in range(n)])\n",
    "            return\n",
    "        for col in range(n):\n",
    "            if is_valid(board, row, col):\n",
    "                board[row] = col\n",
    "                solve(row + 1, board)\n",
    "                board[row] = -1\n",
    "    \n",
    "    result = []\n",
    "    solve(0, [-1] * n)\n",
    "    return result\n",
    "\n",
    "# Example usage:\n",
    "print(n_queens(4))\n"
   ]
  },
  {
   "cell_type": "code",
   "execution_count": null,
   "id": "aafcc617",
   "metadata": {},
   "outputs": [],
   "source": []
  }
 ],
 "metadata": {
  "kernelspec": {
   "display_name": "Python 3 (ipykernel)",
   "language": "python",
   "name": "python3"
  },
  "language_info": {
   "codemirror_mode": {
    "name": "ipython",
    "version": 3
   },
   "file_extension": ".py",
   "mimetype": "text/x-python",
   "name": "python",
   "nbconvert_exporter": "python",
   "pygments_lexer": "ipython3",
   "version": "3.9.12"
  }
 },
 "nbformat": 4,
 "nbformat_minor": 5
}
